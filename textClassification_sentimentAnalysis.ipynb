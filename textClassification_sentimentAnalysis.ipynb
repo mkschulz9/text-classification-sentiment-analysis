{
  "cells": [
    {
      "cell_type": "markdown",
      "source": [
        "### Import & Install Required Libraires"
      ],
      "metadata": {
        "id": "dV8OYEOk9Rsc"
      }
    },
    {
      "cell_type": "code",
      "execution_count": null,
      "metadata": {
        "id": "c-NNzIR9sgot"
      },
      "outputs": [],
      "source": [
        "import pandas as pd\n",
        "import numpy as np\n",
        "import nltk\n",
        "nltk.download('wordnet')\n",
        "nltk.download('stopwords')\n",
        "nltk.download('omw-1.4')\n",
        "import re, os, shutil, requests, random\n",
        "from bs4 import BeautifulSoup\n",
        "import matplotlib.pyplot as plt\n",
        "from sklearn.model_selection import train_test_split\n",
        "from sklearn.feature_extraction.text import TfidfVectorizer\n",
        "from nltk.corpus import stopwords\n",
        "from nltk.stem import WordNetLemmatizer\n",
        "import nltk\n",
        "from sklearn.model_selection import train_test_split\n",
        "from sklearn.linear_model import Perceptron\n",
        "from sklearn.svm import LinearSVC\n",
        "from sklearn.linear_model import LogisticRegression\n",
        "from sklearn.naive_bayes import MultinomialNB\n",
        "from sklearn.metrics import accuracy_score, precision_score, recall_score, f1_score, classification_report\n",
        "from tabulate import tabulate"
      ]
    },
    {
      "cell_type": "code",
      "execution_count": null,
      "metadata": {
        "id": "FOd_P9Ccsgow"
      },
      "outputs": [],
      "source": [
        "! pip install bs4 contractions"
      ]
    },
    {
      "cell_type": "markdown",
      "source": [
        "### Dataset Preparation"
      ],
      "metadata": {
        "id": "U4ih892EtwkX"
      }
    },
    {
      "cell_type": "markdown",
      "source": [
        "##### Load Raw Data\n",
        "- The dataset is an Amazon Reviews dataset for the \"Office Products\" category containing customer reviews, ratings, and other relevant information in tab-separated value (TSV) format, compressed as a .gz file\n",
        "- Below the dataset is downloaded and saved into a local directory"
      ],
      "metadata": {
        "id": "-0OZnblGCvvD"
      }
    },
    {
      "cell_type": "code",
      "execution_count": 35,
      "metadata": {
        "id": "VLZQt7Rrsgoy"
      },
      "outputs": [],
      "source": [
        "# File URL containing source data\n",
        "file_url = 'https://web.archive.org/web/20201127142707if_/https://s3.amazonaws.com/amazon-reviews-pds/tsv/amazon_reviews_us_Office_Products_v1_00.tsv.gz'\n",
        "\n",
        "# Local directory location\n",
        "source_data_dir = 'source_data'\n",
        "os.makedirs(source_data_dir, exist_ok=True)\n",
        "\n",
        "# Remove local directory and contents if it exists\n",
        "if os.path.exists(source_data_dir):\n",
        "    shutil.rmtree(source_data_dir)\n",
        "    os.makedirs(source_data_dir, exist_ok=True)\n",
        "\n",
        "# Download file into local directory\n",
        "res = requests.get(file_url, stream=True)\n",
        "res.raise_for_status()\n",
        "file_name = os.path.join(source_data_dir, os.path.basename(file_url))\n",
        "\n",
        "with open(file_name, 'wb') as f:\n",
        "    for chunk in res.iter_content(chunk_size=8192):\n",
        "        f.write(chunk)"
      ]
    },
    {
      "cell_type": "markdown",
      "source": [
        "##### Read Data into Pandas Dataframe & Remove Invalid Rating Entries\n",
        "- Data is read into a Pandas DataFrame, keeping only the review text and star ratings; the rating entries are cleaned by converting them to integers and removing any invalid entries\n",
        "- Information about the data is printed before and after initial cleaning"
      ],
      "metadata": {
        "id": "dIS8mjIQC5Bz"
      }
    },
    {
      "cell_type": "code",
      "source": [
        "# Read data into Pandas dataframe\n",
        "df = pd.read_csv(\n",
        "    file_name,\n",
        "    compression='gzip',\n",
        "    sep='\\t',\n",
        "    on_bad_lines='skip',\n",
        "    dtype={7: 'str'},  # Read column 7 (ratings) as string\n",
        "    low_memory=False\n",
        ")"
      ],
      "metadata": {
        "id": "x3hBNVe1rZ4b"
      },
      "execution_count": 60,
      "outputs": []
    },
    {
      "cell_type": "code",
      "source": [
        "# Keep only Reviews and Ratings columns\n",
        "review_rating = df[['review_body', 'star_rating']]\n",
        "\n",
        "review_rating.info()\n",
        "print(f\"\\nUnique Values in Rating Column:\\n{df['star_rating'].unique()}\\n\")\n",
        "\n",
        "# Convert string ratings to int\n",
        "review_rating.loc[:, 'star_rating'] = (\n",
        "    review_rating['star_rating']\n",
        "    .apply(lambda x: int(x) if str(x).isdigit() and 1 <= int(x) <= 5 else None)\n",
        ")\n",
        "\n",
        "# Drop rows with invalid or missing values in both columns\n",
        "review_rating = review_rating.dropna(subset=['review_body', 'star_rating'])\n",
        "\n",
        "# Reset index after dropping rows\n",
        "review_rating = review_rating.reset_index(drop=True)\n",
        "\n",
        "review_rating.info()\n",
        "print(f\"\\nUnique Values in Rating Column After Cleaning:\\n{review_rating['star_rating'].unique()}\")"
      ],
      "metadata": {
        "colab": {
          "base_uri": "https://localhost:8080/",
          "height": 0
        },
        "id": "jDPVapzaCtUM",
        "outputId": "259bfa55-9ac0-4bd3-f7d3-15bb533a328b"
      },
      "execution_count": 61,
      "outputs": [
        {
          "output_type": "stream",
          "name": "stdout",
          "text": [
            "<class 'pandas.core.frame.DataFrame'>\n",
            "RangeIndex: 2640254 entries, 0 to 2640253\n",
            "Data columns (total 2 columns):\n",
            " #   Column       Dtype \n",
            "---  ------       ----- \n",
            " 0   review_body  object\n",
            " 1   star_rating  object\n",
            "dtypes: object(2)\n",
            "memory usage: 40.3+ MB\n",
            "\n",
            "Unique Values in Rating Column:\n",
            "['5' '1' '4' '2' '3' '2015-06-05' '2015-02-11' nan '2014-02-14']\n",
            "\n",
            "<class 'pandas.core.frame.DataFrame'>\n",
            "RangeIndex: 2640080 entries, 0 to 2640079\n",
            "Data columns (total 2 columns):\n",
            " #   Column       Dtype \n",
            "---  ------       ----- \n",
            " 0   review_body  object\n",
            " 1   star_rating  object\n",
            "dtypes: object(2)\n",
            "memory usage: 40.3+ MB\n",
            "\n",
            "Unique Values in Rating Column After Cleaning:\n",
            "[5.0 1.0 4.0 2.0 3.0]\n"
          ]
        }
      ]
    },
    {
      "cell_type": "markdown",
      "source": [
        "##### Data Exploration & Visualization\n",
        "- Three reviews with their corresponding ratings are selected and printed\n",
        "- The counts, percentages, mean, median, and standard deviation of the star ratings are displayed and a bar graph is plotted to provide insights into the rating distribution"
      ],
      "metadata": {
        "id": "RnsFsbk0wDpd"
      }
    },
    {
      "cell_type": "code",
      "source": [
        "# Print 3 reviews and corresponding ratings\n",
        "num_rows = len(review_rating.index)\n",
        "indexes = random.sample(range(0, num_rows), 3)\n",
        "\n",
        "for i in indexes:\n",
        "    review, rating = review_rating.loc[i]\n",
        "    print(f\"Review: {review}\\nRating: {rating}\\n\")\n",
        "\n",
        "# Counts different rating values\n",
        "value_counts = review_rating['star_rating'].value_counts()\n",
        "print(f\"Value Counts:\\n{value_counts}\")\n",
        "\n",
        "# Distribution of rating values\n",
        "value_counts_percentage = (value_counts / len(review_rating) * 100).round(2)\n",
        "print(f\"\\nPercentage Distribution:\\n{value_counts_percentage}\")\n",
        "\n",
        "# Mean, median, and std of rating column\n",
        "mean_rating = review_rating['star_rating'].mean()\n",
        "median_rating = review_rating['star_rating'].median()\n",
        "std_rating = review_rating['star_rating'].std()\n",
        "print(f\"\\nMean Rating: {mean_rating:.2f}\")\n",
        "print(f\"Median Rating: {median_rating:.2f}\")\n",
        "print(f\"Standard Deviation of Ratings: {std_rating:.2f}\\n\")\n",
        "\n",
        "# Visualize distribution of rating column\n",
        "value_counts.plot(kind='bar', figsize=(5, 2))\n",
        "plt.title(\"Distribution of Star Ratings\")\n",
        "plt.xlabel(\"Star Rating\")\n",
        "plt.ylabel(\"Number of Reviews\")\n",
        "plt.xticks(rotation=0)\n",
        "plt.show()"
      ],
      "metadata": {
        "colab": {
          "base_uri": "https://localhost:8080/",
          "height": 814
        },
        "id": "6mxXO33BvcuG",
        "outputId": "9078ad84-1057-4756-f30e-4786ca57a863"
      },
      "execution_count": 62,
      "outputs": [
        {
          "output_type": "stream",
          "name": "stdout",
          "text": [
            "Review: These little fuzzy balls have been the favorite of every kitten I've had.  Recently, I rescued a very bright little guy, who is actually smart enough to chase the balls down the stairs and then carry them back up in his mouth to do it again.  The fact that the balls are very soft and comfortable to carry between the teeth makes them very much loved by cats.\n",
            "Rating: 5.0\n",
            "\n",
            "Review: This shredder is extremely loud.  Good for about 4-5 papers at a time. You may want to look for something better, or let me know if you want to buy mine:(\n",
            "Rating: 2.0\n",
            "\n",
            "Review: Nice laser pointer.  Bought it almost a year ago now and it still shines just as brightly as it did the first day.  My cat loves it!\n",
            "Rating: 5.0\n",
            "\n",
            "Value Counts:\n",
            "star_rating\n",
            "5.0    1582704\n",
            "4.0     418348\n",
            "1.0     306967\n",
            "3.0     193680\n",
            "2.0     138381\n",
            "Name: count, dtype: int64\n",
            "\n",
            "Percentage Distribution:\n",
            "star_rating\n",
            "5.0    59.95\n",
            "4.0    15.85\n",
            "1.0    11.63\n",
            "3.0     7.34\n",
            "2.0     5.24\n",
            "Name: count, dtype: float64\n",
            "\n",
            "Mean Rating: 4.07\n",
            "Median Rating: 5.00\n",
            "Standard Deviation of Ratings: 1.39\n",
            "\n"
          ]
        },
        {
          "output_type": "display_data",
          "data": {
            "text/plain": [
              "<Figure size 500x200 with 1 Axes>"
            ],
            "image/png": "[encoded data removed]"
          },
          "metadata": {}
        }
      ]
    },
    {
      "cell_type": "markdown",
      "source": [
        "##### Create Positive Sentiment Column\n",
        "- A new column, positive_sentiment, is created to label reviews based on their star ratings: ratings > 3 are labeled as positive (1), ratings < 3 as negative (0), and neutral ratings (3) as 2\n",
        "- Rows with neutral sentiment (2) are removed"
      ],
      "metadata": {
        "id": "_pfeFzJF29Im"
      }
    },
    {
      "cell_type": "code",
      "source": [
        "# Create binary labels for data (i.e., ratings > 3 demonstrate positive sentiment (mapped to 1), ratings < 3 demonstrate negative sentiment (mapped to 0), ratings = 3 demonstrate neutral sentiment (mapped to 2)\n",
        "review_rating['positive_sentiment'] = review_rating['star_rating'].apply(lambda x: 1 if x > 3 else 0 if x < 3 else 2)\n",
        "\n",
        "print(review_rating['positive_sentiment'].unique())"
      ],
      "metadata": {
        "id": "MLUcE429wPBk",
        "colab": {
          "base_uri": "https://localhost:8080/",
          "height": 0
        },
        "outputId": "f044efce-6ccf-45c6-fae1-33a2e640e65d"
      },
      "execution_count": 63,
      "outputs": [
        {
          "output_type": "stream",
          "name": "stdout",
          "text": [
            "[1 0 2]\n"
          ]
        }
      ]
    },
    {
      "cell_type": "code",
      "source": [
        "# Counts of sentiment classes (including neutral: 2)\n",
        "value_counts = review_rating['positive_sentiment'].value_counts()\n",
        "print(f\"Value Counts:\\n{value_counts}\")\n",
        "\n",
        "# Drop rows with neutral sentiment\n",
        "review_rating = review_rating.loc[review_rating['positive_sentiment'] != 2]\n",
        "\n",
        "# Reset index after dropping rows\n",
        "review_rating = review_rating.reset_index(drop=True)\n",
        "\n",
        "print(review_rating['positive_sentiment'].unique())"
      ],
      "metadata": {
        "colab": {
          "base_uri": "https://localhost:8080/",
          "height": 0
        },
        "id": "GRAmfmug0YSj",
        "outputId": "a5c1424f-b05a-45c4-f702-11a354aec5d0"
      },
      "execution_count": 64,
      "outputs": [
        {
          "output_type": "stream",
          "name": "stdout",
          "text": [
            "Value Counts:\n",
            "positive_sentiment\n",
            "1    2001052\n",
            "0     445348\n",
            "2     193680\n",
            "Name: count, dtype: int64\n",
            "[1 0]\n"
          ]
        }
      ]
    },
    {
      "cell_type": "markdown",
      "source": [
        "##### Condense Dataset\n",
        "- 100,000 reviews each from the positive and negative sentiment classes are selected to reduce dataset size and balance the classes, ensuring equal representation\n",
        "- The selected positive and negative reviews are combined into a single DataFrame to be used in the next sections"
      ],
      "metadata": {
        "id": "aPmdWcje3ImS"
      }
    },
    {
      "cell_type": "code",
      "source": [
        "# Filter positive and negative sentiment reviews to reduce dataset size and balance classes\n",
        "positive_reviews = review_rating[review_rating['positive_sentiment'] == 1].sample(n=100000)\n",
        "negative_reviews = review_rating[review_rating['positive_sentiment'] == 0].sample(n=100000)\n",
        "\n",
        "# Combine samples into one dataset\n",
        "balanced_df = pd.concat([positive_reviews, negative_reviews]).reset_index(drop=True)\n",
        "balanced_df.info()"
      ],
      "metadata": {
        "id": "w5mYFpj53HnL",
        "colab": {
          "base_uri": "https://localhost:8080/",
          "height": 0
        },
        "outputId": "b7fe37d1-e022-442a-e7e1-404a0f15572f"
      },
      "execution_count": 84,
      "outputs": [
        {
          "output_type": "stream",
          "name": "stdout",
          "text": [
            "<class 'pandas.core.frame.DataFrame'>\n",
            "RangeIndex: 200000 entries, 0 to 199999\n",
            "Data columns (total 3 columns):\n",
            " #   Column              Non-Null Count   Dtype \n",
            "---  ------              --------------   ----- \n",
            " 0   review_body         200000 non-null  object\n",
            " 1   star_rating         200000 non-null  object\n",
            " 2   positive_sentiment  200000 non-null  int64 \n",
            "dtypes: int64(1), object(2)\n",
            "memory usage: 4.6+ MB\n"
          ]
        }
      ]
    },
    {
      "cell_type": "markdown",
      "source": [
        "### Data Preprocessing"
      ],
      "metadata": {
        "id": "-DznBNnubd_Y"
      }
    },
    {
      "cell_type": "markdown",
      "metadata": {
        "id": "SGBk19rdsgoz"
      },
      "source": [
        "##### Data Cleaning\n",
        "- Reviews are cleaned by converting text to lowercase, expanding contractions (e.g., \"don't\" → \"do not\"), removing HTML tags, URLs, non-alphabetical characters, and extra spaces\n",
        "- The average review length and a few examples are printed before and after cleaning\n"
      ]
    },
    {
      "cell_type": "code",
      "source": [
        "from contractions import fix\n",
        "\n",
        "# Convert to lowercase\n",
        "balanced_df['cleaned_reviewBody'] = balanced_df['review_body'].str.lower()\n",
        "\n",
        "# Perform contractions\n",
        "balanced_df['cleaned_reviewBody'] = balanced_df['cleaned_reviewBody'].apply(fix)\n",
        "\n",
        "# Remove HTML and URLs\n",
        "balanced_df['cleaned_reviewBody'] = balanced_df['cleaned_reviewBody'].str.replace(r'<br\\s*/?>', ' ', regex=True)\n",
        "balanced_df['cleaned_reviewBody'] = balanced_df['cleaned_reviewBody'].str.replace(r'http\\S+|www.\\S+', '', regex=True)\n",
        "\n",
        "# Remove non-alphabetical characters\n",
        "balanced_df['cleaned_reviewBody'] = balanced_df['cleaned_reviewBody'].str.replace(r'[^a-zA-Z\\s]', '', regex=True)\n",
        "\n",
        "# Remove extra spaces\n",
        "balanced_df['cleaned_reviewBody'] = balanced_df['cleaned_reviewBody'].str.split().str.join(' ')"
      ],
      "metadata": {
        "id": "jEyOpy756XSB"
      },
      "execution_count": 85,
      "outputs": []
    },
    {
      "cell_type": "code",
      "source": [
        "# Calculate average lengths\n",
        "avg_length_before = balanced_df['review_body'].str.len().mean()\n",
        "avg_length_after = balanced_df['cleaned_reviewBody'].str.len().mean()\n",
        "\n",
        "print(f\"Average length before cleaning: {avg_length_before:.2f} chars\")\n",
        "print(f\"Average length after cleaning: {avg_length_after:.2f} chars\\n\")\n",
        "\n",
        "# Print few reviews before and after cleaning\n",
        "num_rows = len(balanced_df.index)\n",
        "indexes = random.sample(range(0, num_rows), 2)\n",
        "\n",
        "for i in indexes:\n",
        "    review_dirty, review_clean = balanced_df['review_body'].loc[i], balanced_df['cleaned_reviewBody'].loc[i]\n",
        "    print(f\"Dirty Review: {review_dirty}\\nClean Review: {review_clean}\\n\")"
      ],
      "metadata": {
        "colab": {
          "base_uri": "https://localhost:8080/",
          "height": 0
        },
        "id": "w_iwfFhR-lHW",
        "outputId": "08be5702-0091-480b-9e92-b9fa23f603ce"
      },
      "execution_count": 86,
      "outputs": [
        {
          "output_type": "stream",
          "name": "stdout",
          "text": [
            "Average length before cleaning: 316.79 chars\n",
            "Average length after cleaning: 301.38 chars\n",
            "\n",
            "Dirty Review: I am happy that I can count on my Canon ink cartridge to be the correct cartridge, brand new, and works great in my Canon printer\n",
            "Clean Review: i am happy that i can count on my canon ink cartridge to be the correct cartridge brand new and works great in my canon printer\n",
            "\n",
            "Dirty Review: It does not let you print if the color ink is done..even if there is blank ink..actually there is no choice for printing in black or color..the color ink just depletes even if you use just black..actually i never used color and still color ink is gone..and as I wrote if there is no color ink it just wont print. The printer cartridges are ridiculously pricey..actually you can buy a new printer with the price you pay for those cartridges..\n",
            "Clean Review: it does not let you print if the color ink is doneeven if there is blank inkactually there is no choice for printing in black or colorthe color ink just depletes even if you use just blackactually i never used color and still color ink is goneand as i wrote if there is no color ink it just will not print the printer cartridges are ridiculously priceyactually you can buy a new printer with the price you pay for those cartridges\n",
            "\n"
          ]
        }
      ]
    },
    {
      "cell_type": "markdown",
      "metadata": {
        "id": "TS7U03yDsgoz"
      },
      "source": [
        "##### Stop Word Removal & Lemmatization\n",
        "- Defines a function `preprocess_text` that tokenizes each review, removes stopwords, and lemmatizes (e.g., reducing \"builds\", \"building\", or \"built\" to the lemma \"build\"remaining words; the processed words are then joined back into a cleaned string\n",
        "- The preprocess_text function is applied to the cleaned_reviewBody column in the DataFrame, further cleaning and standardizing the reviews\n",
        "- Again, the average review length and a few examples are printed before and after cleaning"
      ]
    },
    {
      "cell_type": "code",
      "execution_count": 87,
      "metadata": {
        "id": "uFByoiTlsgo0",
        "colab": {
          "base_uri": "https://localhost:8080/",
          "height": 0
        },
        "outputId": "c5b8a039-fae4-4ac0-c079-e954718e9acd"
      },
      "outputs": [
        {
          "output_type": "stream",
          "name": "stdout",
          "text": [
            "Average length before cleaning: 301.38 chars\n",
            "Average length after cleaning: 186.65 chars\n",
            "\n",
            "Dirty Review: Has to return the product as the product replaced twice was defective. Purchased directly from monoprice.\n",
            "Clean Review: return product product replaced twice defective purchased directly monoprice\n",
            "\n",
            "Dirty Review: I order one of these every year off Amazon.Great price,fast shipping, and it's small not bulky.Just a great planner and if you are looking for a great monthly planner this is the one to buy.\n",
            "Clean Review: order one every year amazongreat pricefast shipping small bulkyjust great planner looking great monthly planner one buy\n",
            "\n",
            "Dirty Review: The quality of this deputy ranger star is made of very strong metal.looks great and it draws a lot of attention at work and around the neighborhood .the good thing is that if you wear it in the rain it doesn't rust or change color .I would definite recommend it to friends .\n",
            "Clean Review: quality deputy ranger star made strong metallooks great draw lot attention work around neighborhood good thing wear rain rust change color would definite recommend friend\n",
            "\n"
          ]
        }
      ],
      "source": [
        "# Initialize stop words and lemmatizer\n",
        "stop_words = set(stopwords.words('english'))\n",
        "lemmatizer = WordNetLemmatizer()\n",
        "\n",
        "# Removes stopwords and performs lemmatization\n",
        "def remove_stopWords_lemmatize(text):\n",
        "    # Tokenize text into words\n",
        "    words = text.split()\n",
        "\n",
        "    # Remove stopwords and lemmatize\n",
        "    processed_words = [lemmatizer.lemmatize(word) for word in words if word not in stop_words]\n",
        "\n",
        "    # Join words back into single string\n",
        "    return ' '.join(processed_words)\n",
        "\n",
        "# Apply preprocessing to cleaned_reviewBody column\n",
        "avg_length_before = balanced_df['cleaned_reviewBody'].str.len().mean()\n",
        "balanced_df['cleaned_reviewBody'] = balanced_df['cleaned_reviewBody'].apply(remove_stopWords_lemmatize)\n",
        "\n",
        "# Print avg char length before and after cleaning + stop word removal & lemmatization\n",
        "avg_length_after = balanced_df['cleaned_reviewBody'].str.len().mean()\n",
        "\n",
        "print(f\"Average length before cleaning: {avg_length_before:.2f} chars\")\n",
        "print(f\"Average length after cleaning: {avg_length_after:.2f} chars\\n\")\n",
        "\n",
        "# Print sample reviews before and after cleaning + stop word removal & lemmatization\n",
        "num_rows = len(balanced_df.index)\n",
        "indexes = random.sample(range(0, num_rows), 3)\n",
        "\n",
        "for i in indexes:\n",
        "    review_dirty, review_clean = balanced_df['review_body'].loc[i], balanced_df['cleaned_reviewBody'].loc[i]\n",
        "    print(f\"Dirty Review: {review_dirty}\\nClean Review: {review_clean}\\n\")"
      ]
    },
    {
      "cell_type": "markdown",
      "source": [
        "##### Train-Test Split\n",
        "- Splits the dataset (balanced_df) into 80% training and 20% testing sets while maintaining the class balance (stratified by the positive_sentiment column)\n",
        "- The size and the class distributions of both sets are printed"
      ],
      "metadata": {
        "id": "x8XQCdZt0giz"
      }
    },
    {
      "cell_type": "code",
      "source": [
        "# Split the dataset into 80% training and 20% testing\n",
        "train_df, test_df = train_test_split(\n",
        "    balanced_df,\n",
        "    test_size=0.2,\n",
        "    stratify=balanced_df['positive_sentiment']\n",
        ")\n",
        "\n",
        "value_counts_train = train_df['positive_sentiment'].value_counts()\n",
        "value_counts_test = test_df['positive_sentiment'].value_counts()\n",
        "\n",
        "print(f'Training set size: {len(train_df)}')\n",
        "print(f'Training value counts:\\n{value_counts_train}\\n')\n",
        "print(f'Testing set size: {len(test_df)}')\n",
        "print(f'Testing value counts:\\n{value_counts_test}')"
      ],
      "metadata": {
        "colab": {
          "base_uri": "https://localhost:8080/",
          "height": 0
        },
        "id": "onPNYrH50gQS",
        "outputId": "7d5cd0b0-6e5d-48de-f0f5-4108d6edd443"
      },
      "execution_count": 88,
      "outputs": [
        {
          "output_type": "stream",
          "name": "stdout",
          "text": [
            "Training set size: 160000\n",
            "Training value counts:\n",
            "positive_sentiment\n",
            "0    80000\n",
            "1    80000\n",
            "Name: count, dtype: int64\n",
            "\n",
            "Testing set size: 40000\n",
            "Testing value counts:\n",
            "positive_sentiment\n",
            "1    20000\n",
            "0    20000\n",
            "Name: count, dtype: int64\n"
          ]
        }
      ]
    },
    {
      "cell_type": "markdown",
      "source": [
        "##### Extract TF-ID Features from Sets\n",
        "- Initializes a TF-IDF vectorizer with a maximum of 5,000 features to convert text data (cleaned_reviewBody) into numerical representations; the vectorizer is fit on the training data and used to transform both training (X_train) and testing (X_test) datasets\n",
        "- Extracts sentiment labels (positive_sentiment) for training (y_train) and testing (y_test) datasets, and prints the shapes of the resulting TF-IDF feature matrices to confirm dimensionality"
      ],
      "metadata": {
        "id": "IBEy-kvO7zUJ"
      }
    },
    {
      "cell_type": "code",
      "source": [
        "# Initialize TF-IDF vectorizer\n",
        "tfidf = TfidfVectorizer(max_features=5000)\n",
        "\n",
        "# Fit on training data and transform\n",
        "X_train = tfidf.fit_transform(train_df['cleaned_reviewBody'])\n",
        "\n",
        "# Transform test data\n",
        "X_test = tfidf.transform(test_df['cleaned_reviewBody'])\n",
        "\n",
        "# Extract labels\n",
        "y_train = train_df['positive_sentiment']\n",
        "y_test = test_df['positive_sentiment']\n",
        "\n",
        "print(f\"TF-IDF Features for Training Data: {X_train.shape}\")\n",
        "print(f\"TF-IDF Features for Testing Data: {X_test.shape}\")"
      ],
      "metadata": {
        "id": "s2yUDnfP7zUK",
        "colab": {
          "base_uri": "https://localhost:8080/",
          "height": 0
        },
        "outputId": "6eab9368-a7bd-49a6-ac20-054bbab35bfc"
      },
      "execution_count": 89,
      "outputs": [
        {
          "output_type": "stream",
          "name": "stdout",
          "text": [
            "TF-IDF Features for Training Data: (160000, 5000)\n",
            "TF-IDF Features for Testing Data: (40000, 5000)\n"
          ]
        }
      ]
    },
    {
      "cell_type": "markdown",
      "source": [
        "### Modeling"
      ],
      "metadata": {
        "id": "oWeyqMPRdX-5"
      }
    },
    {
      "cell_type": "markdown",
      "source": [
        "##### Shared Functions\n",
        "- `evaluate_model` used across all models for calculating, displaying, and saving a variety of classification metrics\n",
        "- `visualize_results` visualizes the performance across all models"
      ],
      "metadata": {
        "id": "SsBJX0Ho3hfl"
      }
    },
    {
      "cell_type": "code",
      "source": [
        "eval_results = []\n",
        "\n",
        "def evaluate_model(y_true, y_pred, dataset_type, model_type):\n",
        "    accuracy = accuracy_score(y_true, y_pred)\n",
        "    precision = precision_score(y_true, y_pred, average='binary')\n",
        "    recall = recall_score(y_true, y_pred, average='binary')\n",
        "    f1 = f1_score(y_true, y_pred, average='binary')\n",
        "\n",
        "    # Print metrics\n",
        "    print(f\"Metrics for {model_type} on {dataset_type} dataset:\")\n",
        "    print(f\"Accuracy: {accuracy:.4f}\")\n",
        "    print(f\"Precision: {precision:.4f}\")\n",
        "    print(f\"Recall: {recall:.4f}\")\n",
        "    print(f\"F1-Score: {f1:.4f}\")\n",
        "    print(\"-\" * 50)\n",
        "\n",
        "    # Save results to eval_results\n",
        "    eval_results.append({\n",
        "        'Model': model_type,\n",
        "        'Dataset': dataset_type,\n",
        "        'Accuracy': accuracy,\n",
        "        'Precision': precision,\n",
        "        'Recall': recall,\n",
        "        'F1-Score': f1\n",
        "    })\n",
        "\n",
        "def visualize_results():\n",
        "    if not eval_results:\n",
        "        print(\"No evaluation results to display.\")\n",
        "        return\n",
        "\n",
        "    # Convert results to DataFrame\n",
        "    results_df = pd.DataFrame(eval_results)\n",
        "\n",
        "    # Print results as table\n",
        "    print(\"Aggregated Results:\")\n",
        "    print(tabulate(results_df, headers='keys', tablefmt='grid'))\n",
        "\n",
        "    # Visualize results using bar plots\n",
        "    metrics = ['Accuracy', 'Precision', 'Recall', 'F1-Score']\n",
        "    fig, axs = plt.subplots(2, 2, figsize=(12, 10))\n",
        "    axs = axs.flatten()\n",
        "\n",
        "    for i, metric in enumerate(metrics):\n",
        "        results_df.pivot(index='Model', columns='Dataset', values=metric).plot(\n",
        "            kind='bar', ax=axs[i], title=metric\n",
        "        )\n",
        "        axs[i].set_ylabel(metric)\n",
        "        axs[i].set_xlabel('Model')\n",
        "        axs[i].legend(title='Dataset', loc='lower right')\n",
        "        axs[i].grid(axis='y')\n",
        "\n",
        "    plt.tight_layout()\n",
        "    plt.show()"
      ],
      "metadata": {
        "id": "6FqpofIt3bhm"
      },
      "execution_count": 108,
      "outputs": []
    },
    {
      "cell_type": "markdown",
      "metadata": {
        "id": "qc18UClusgo1"
      },
      "source": [
        "##### Perceptron Model\n",
        "- A Perceptron model is initialized and trained on the TF-IDF-transformed training data (X_train and y_train); predictions are then made on both the training (y_pred_train) and testing (y_pred_test) datasets\n",
        "- The Perceptron is a simple linear classifier that learns a hyperplane to separate data points into two classes; it predicts a label based on a weighted sum of the input features and a bias\n",
        "- During training, the model iteratively adjusts the weights using a rule that corrects them when a misclassification occurs; the updates are based on the difference between the predicted and actual labels\n",
        "- The Perceptron is typically used for binary classification tasks, though it can be extended to multi-class problems using variations like the one-vs-rest strategy"
      ]
    },
    {
      "cell_type": "code",
      "execution_count": 109,
      "metadata": {
        "id": "oZejNnlwsgo1",
        "colab": {
          "base_uri": "https://localhost:8080/",
          "height": 0
        },
        "outputId": "3ad02e99-4ff6-476e-ea65-8230aaf7a9ee"
      },
      "outputs": [
        {
          "output_type": "stream",
          "name": "stdout",
          "text": [
            "Metrics for Perceptron on Training dataset:\n",
            "Accuracy: 0.8576\n",
            "Precision: 0.8348\n",
            "Recall: 0.8916\n",
            "F1-Score: 0.8623\n",
            "--------------------------------------------------\n",
            "Metrics for Perceptron on Testing dataset:\n",
            "Accuracy: 0.8497\n",
            "Precision: 0.8267\n",
            "Recall: 0.8850\n",
            "F1-Score: 0.8548\n",
            "--------------------------------------------------\n"
          ]
        }
      ],
      "source": [
        "# Initialize Perceptron model\n",
        "perceptron = Perceptron()\n",
        "\n",
        "# Train model on training data\n",
        "perceptron.fit(X_train, y_train)\n",
        "\n",
        "# Predict on training data\n",
        "y_pred_train = perceptron.predict(X_train)\n",
        "\n",
        "# Predict on testing data\n",
        "y_pred_test = perceptron.predict(X_test)\n",
        "\n",
        "# Evaluate model on training data\n",
        "evaluate_model(y_train, y_pred_train, 'Training', 'Perceptron')\n",
        "\n",
        "# Evaluate model on testing data\n",
        "evaluate_model(y_test, y_pred_test, 'Testing', 'Perceptron')"
      ]
    },
    {
      "cell_type": "markdown",
      "metadata": {
        "id": "popVp187sgo1"
      },
      "source": [
        "##### SVM Model\n",
        "- A Perceptron model is initialized and trained on the TF-IDF-transformed training data (X_train and y_train); predictions are then made on both the training (y_pred_train) and testing (y_pred_test) datasets\n",
        "- SVM finds the optimal hyperplane that separates data points from different classes while maximizing the margin (distance) between the closest points of each class (support vectors); this ensures better generalization to unseen data\n",
        "- Unlike the Perceptron, which updates weights only on misclassifications, SVM uses a hinge loss function to penalize points near or on the wrong side of the margin, leading to a more robust decision boundary\n",
        "- SVM focuses on maximizing the margin and can handle noisy data better, while the Perceptron simply adjusts weights based on misclassifications without considering a margin; SVM also supports regularization to prevent overfitting"
      ]
    },
    {
      "cell_type": "code",
      "source": [
        "# Initialize SVM model\n",
        "svm_model = LinearSVC(max_iter=10)\n",
        "\n",
        "# Train model on training data\n",
        "svm_model.fit(X_train, y_train)\n",
        "\n",
        "# Predict on training data\n",
        "y_pred_train = svm_model.predict(X_train)\n",
        "\n",
        "# Predict on testing data\n",
        "y_pred_test = svm_model.predict(X_test)\n",
        "\n",
        "# Evaluate model on training data\n",
        "evaluate_model(y_train, y_pred_train, 'Training', 'SVM')\n",
        "\n",
        "# Evaluate model on testing data\n",
        "evaluate_model(y_test, y_pred_test, 'Testing', 'SVM')"
      ],
      "metadata": {
        "colab": {
          "base_uri": "https://localhost:8080/",
          "height": 0
        },
        "id": "caUAjmLp94CD",
        "outputId": "bbe3296c-0321-45df-f5f8-71abca569242"
      },
      "execution_count": 110,
      "outputs": [
        {
          "output_type": "stream",
          "name": "stdout",
          "text": [
            "Metrics for SVM on Training dataset:\n",
            "Accuracy: 0.9044\n",
            "Precision: 0.9073\n",
            "Recall: 0.9008\n",
            "F1-Score: 0.9040\n",
            "--------------------------------------------------\n",
            "Metrics for SVM on Testing dataset:\n",
            "Accuracy: 0.8929\n",
            "Precision: 0.8931\n",
            "Recall: 0.8927\n",
            "F1-Score: 0.8929\n",
            "--------------------------------------------------\n"
          ]
        }
      ]
    },
    {
      "cell_type": "markdown",
      "metadata": {
        "id": "UMN4wnDDsgo1"
      },
      "source": [
        "##### Logistic Regression Model\n",
        "- A Logistic Regression model is initialized and trained on the TF-IDF-transformed training data (X_train and y_train); predictions are then made on both the training (y_pred_train) and testing (y_pred_test) datasets\n",
        "- Logistic Regression predicts probabilities for each class using a logistic (sigmoid) function, converting the weighted sum of input features into a value between 0 and 1. A threshold (e.g., 0.5) is used to classify data points\n",
        "- It minimizes the log-loss (cross-entropy loss), which penalizes wrong predictions based on how confident they are, making it a probabilistic model rather than a hard-margin classifier like SVM\n",
        "- Unlike SVM and Perceptron, Logistic Regression produces probabilistic outputs and directly models the likelihood of class membership; it doesn’t focus on maximizing a margin but instead aims to fit the data by minimizing classification error through log-loss; this makes it more interpretable and better for problems where probabilities are needed"
      ]
    },
    {
      "cell_type": "code",
      "execution_count": 111,
      "metadata": {
        "id": "nQk1kx3Nsgo1",
        "colab": {
          "base_uri": "https://localhost:8080/",
          "height": 0
        },
        "outputId": "1635006b-4e5f-4e51-e94a-bdbc106d21cf"
      },
      "outputs": [
        {
          "output_type": "stream",
          "name": "stdout",
          "text": [
            "Metrics for Logistic Regression on Training dataset:\n",
            "Accuracy: 0.9000\n",
            "Precision: 0.9044\n",
            "Recall: 0.8946\n",
            "F1-Score: 0.8994\n",
            "--------------------------------------------------\n",
            "Metrics for Logistic Regression on Testing dataset:\n",
            "Accuracy: 0.8953\n",
            "Precision: 0.8969\n",
            "Recall: 0.8932\n",
            "F1-Score: 0.8951\n",
            "--------------------------------------------------\n"
          ]
        }
      ],
      "source": [
        "# Initialize Logistic Regression model\n",
        "logistic_model = LogisticRegression(max_iter=1000)\n",
        "\n",
        "# Train model on training data\n",
        "logistic_model.fit(X_train, y_train)\n",
        "\n",
        "# Predict on training data\n",
        "y_pred_train = logistic_model.predict(X_train)\n",
        "\n",
        "# Predict on testing data\n",
        "y_pred_test = logistic_model.predict(X_test)\n",
        "\n",
        "# Evaluate model on training data\n",
        "evaluate_model(y_train, y_pred_train, 'Training', 'Logistic Regression')\n",
        "\n",
        "# Evaluate model on testing data\n",
        "evaluate_model(y_test, y_pred_test, 'Testing', 'Logistic Regression')"
      ]
    },
    {
      "cell_type": "markdown",
      "metadata": {
        "id": "4sbSfq47sgo2"
      },
      "source": [
        "##### Multinomial Naive Bayes Model\n",
        "- A Multinomial Naive Bayes model is initialized and trained on the TF-IDF-transformed training data (X_train and y_train); predictions are then made on both the training (y_pred_train) and testing (y_pred_test) datasets\n",
        "- Multinomial Naive Bayes is based on Bayes' Theorem and assumes that features (e.g., word counts or TF-IDF scores) are conditionally independent given the class label; it calculates the probability of each class and assigns the one with the highest probability to the input\n",
        "- This model is particularly effective for text classification tasks, as it assumes feature values (like word frequencies) follow a multinomial distribution; it uses pre-computed probabilities from training data to classify new data points quickly\n",
        "- Unlike SVM, Logistic Regression, and Perceptron, which are more general-purpose classifiers using hyperplanes and optimization techniques, Multinomial Naive Bayes relies on strong independence assumptions and is computationally lightweight; it's typically faster but can struggle when the independence assumption doesn't hold"
      ]
    },
    {
      "cell_type": "code",
      "execution_count": 112,
      "metadata": {
        "id": "k-yrimwxsgo2",
        "colab": {
          "base_uri": "https://localhost:8080/",
          "height": 0
        },
        "outputId": "6d7c5671-4340-49b5-c6a2-dd5ebba51e20"
      },
      "outputs": [
        {
          "output_type": "stream",
          "name": "stdout",
          "text": [
            "Metrics for Multinomial Naive Bayes on Training dataset:\n",
            "Accuracy: 0.8627\n",
            "Precision: 0.8629\n",
            "Recall: 0.8625\n",
            "F1-Score: 0.8627\n",
            "--------------------------------------------------\n",
            "Metrics for Multinomial Naive Bayes on Testing dataset:\n",
            "Accuracy: 0.8588\n",
            "Precision: 0.8576\n",
            "Recall: 0.8605\n",
            "F1-Score: 0.8591\n",
            "--------------------------------------------------\n"
          ]
        }
      ],
      "source": [
        "# Initialize Multinomial Naive Bayes model\n",
        "nb_model = MultinomialNB()\n",
        "\n",
        "# Train model on training data\n",
        "nb_model.fit(X_train, y_train)\n",
        "\n",
        "# Predict on training data\n",
        "y_pred_train = nb_model.predict(X_train)\n",
        "\n",
        "# Predict on testing data\n",
        "y_pred_test = nb_model.predict(X_test)\n",
        "\n",
        "# Evaluate model on training data\n",
        "evaluate_model(y_train, y_pred_train, 'Training', 'Multinomial Naive Bayes')\n",
        "\n",
        "# Evaluate model on testing data\n",
        "evaluate_model(y_test, y_pred_test, 'Testing', 'Multinomial Naive Bayes')"
      ]
    },
    {
      "cell_type": "markdown",
      "source": [
        "##### Compare Model Performances"
      ],
      "metadata": {
        "id": "3WoPgu-Hi7wU"
      }
    },
    {
      "cell_type": "code",
      "source": [
        "visualize_results()"
      ],
      "metadata": {
        "colab": {
          "base_uri": "https://localhost:8080/",
          "height": 1109
        },
        "id": "gRKMt2hri6kY",
        "outputId": "4405f554-8b29-48b0-83fc-6b1eebb34032"
      },
      "execution_count": 113,
      "outputs": [
        {
          "output_type": "stream",
          "name": "stdout",
          "text": [
            "Aggregated Results:\n",
            "+----+-------------------------+-----------+------------+-------------+----------+------------+\n",
            "|    | Model                   | Dataset   |   Accuracy |   Precision |   Recall |   F1-Score |\n",
            "+====+=========================+===========+============+=============+==========+============+\n",
            "|  0 | Perceptron              | Training  |   0.857569 |    0.834806 | 0.891563 |   0.862251 |\n",
            "+----+-------------------------+-----------+------------+-------------+----------+------------+\n",
            "|  1 | Perceptron              | Testing   |   0.849725 |    0.826678 | 0.885    |   0.854845 |\n",
            "+----+-------------------------+-----------+------------+-------------+----------+------------+\n",
            "|  2 | SVM                     | Training  |   0.904356 |    0.907263 | 0.900787 |   0.904014 |\n",
            "+----+-------------------------+-----------+------------+-------------+----------+------------+\n",
            "|  3 | SVM                     | Testing   |   0.892925 |    0.893102 | 0.8927   |   0.892901 |\n",
            "+----+-------------------------+-----------+------------+-------------+----------+------------+\n",
            "|  4 | Logistic Regression     | Training  |   0.899994 |    0.904386 | 0.894563 |   0.899448 |\n",
            "+----+-------------------------+-----------+------------+-------------+----------+------------+\n",
            "|  5 | Logistic Regression     | Testing   |   0.895275 |    0.896882 | 0.89325  |   0.895063 |\n",
            "+----+-------------------------+-----------+------------+-------------+----------+------------+\n",
            "|  6 | Multinomial Naive Bayes | Training  |   0.862719 |    0.862878 | 0.8625   |   0.862689 |\n",
            "+----+-------------------------+-----------+------------+-------------+----------+------------+\n",
            "|  7 | Multinomial Naive Bayes | Testing   |   0.858825 |    0.857627 | 0.8605   |   0.859061 |\n",
            "+----+-------------------------+-----------+------------+-------------+----------+------------+\n"
          ]
        },
        {
          "output_type": "display_data",
          "data": {
            "text/plain": [
              "<Figure size 1200x1000 with 4 Axes>"
            ],
            "image/png": "[encoded data removed]"
          },
          "metadata": {}
        }
      ]
    }
  ],
  "metadata": {
    "kernelspec": {
      "display_name": "Python 3",
      "name": "python3"
    },
    "language_info": {
      "codemirror_mode": {
        "name": "ipython",
        "version": 3
      },
      "file_extension": ".py",
      "mimetype": "text/x-python",
      "name": "python",
      "nbconvert_exporter": "python",
      "pygments_lexer": "ipython3",
      "version": "3.7.9"
    },
    "colab": {
      "provenance": [],
      "collapsed_sections": [
        "dV8OYEOk9Rsc",
        "U4ih892EtwkX",
        "-0OZnblGCvvD",
        "dIS8mjIQC5Bz",
        "RnsFsbk0wDpd",
        "_pfeFzJF29Im",
        "aPmdWcje3ImS",
        "SGBk19rdsgoz",
        "TS7U03yDsgoz",
        "jOtGCJBwyhG4",
        "qXx0ibnpsgo0",
        "x8XQCdZt0giz",
        "IBEy-kvO7zUJ",
        "SsBJX0Ho3hfl",
        "qc18UClusgo1",
        "popVp187sgo1",
        "UMN4wnDDsgo1",
        "4sbSfq47sgo2"
      ],
      "gpuType": "T4"
    },
    "accelerator": "GPU"
  },
  "nbformat": 4,
  "nbformat_minor": 0
}